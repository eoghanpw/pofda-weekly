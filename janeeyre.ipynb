{
 "cells": [
  {
   "cell_type": "markdown",
   "metadata": {},
   "source": [
    "# Jane Eyre - A Mathematical Theory of Communication\n",
    "\n",
    "[A Mathematical Theory of Communication by Claude Shannon](https://people.math.harvard.edu/~ctm/home/text/others/shannon/entropy/entropy.pdf)\n",
    "\n",
    "[The Mathematical Theory of Communication by Claude Shannon and Warren Weaver](https://pure.mpg.de/rest/items/item_2383164/component/file_2383163/content)\n",
    "\n",
    "[Jane Eyre: An Autobiography by Charlotte Brontë](https://www.gutenberg.org/ebooks/1260)"
   ]
  },
  {
   "cell_type": "markdown",
   "metadata": {},
   "source": [
    "## Imports"
   ]
  },
  {
   "cell_type": "code",
   "execution_count": 1,
   "metadata": {},
   "outputs": [],
   "source": [
    "# The random module from the Python Standard Library.\n",
    "import random"
   ]
  },
  {
   "cell_type": "markdown",
   "metadata": {},
   "source": [
    "## Zero-order Approximation"
   ]
  },
  {
   "cell_type": "code",
   "execution_count": 2,
   "metadata": {},
   "outputs": [],
   "source": [
    "# The allowed symbols\n",
    "symbols = \"ABCDEFGHIJKLMNOPQRSTUVWXYZ \""
   ]
  },
  {
   "cell_type": "code",
   "execution_count": 3,
   "metadata": {},
   "outputs": [
    {
     "data": {
      "text/plain": [
       "'GXJMLZXLXVVSNWVRGCBFRYBUDLUPVLSSLXDSDGGFERXQV  OZGKAWPTYAV HKAIADKSXATY LIISUUGZJUQDHGLITMJVEMSCAXD '"
      ]
     },
     "execution_count": 3,
     "metadata": {},
     "output_type": "execute_result"
    }
   ],
   "source": [
    "# Randomly select k symbols from the string above.\n",
    "L = random.choices(symbols, k=100)\n",
    "\n",
    "# Show.\n",
    "''.join(L)"
   ]
  },
  {
   "cell_type": "markdown",
   "metadata": {},
   "source": [
    "## First-order Approximation"
   ]
  },
  {
   "cell_type": "code",
   "execution_count": 6,
   "metadata": {},
   "outputs": [],
   "source": [
    "# Open the book.\n",
    "with open('janeeyre.txt','r') as f:\n",
    "    # Read the book into one long string.\n",
    "    text = f.read().upper()"
   ]
  },
  {
   "cell_type": "code",
   "execution_count": 7,
   "metadata": {},
   "outputs": [],
   "source": [
    "# Counts of the number of letters in the book.\n",
    "counts = {s: text.count(s) for s in symbols}"
   ]
  },
  {
   "cell_type": "code",
   "execution_count": 8,
   "metadata": {},
   "outputs": [
    {
     "data": {
      "text/plain": [
       "{'A': 62860,\n",
       " 'B': 11161,\n",
       " 'C': 18771,\n",
       " 'D': 37462,\n",
       " 'E': 100508,\n",
       " 'F': 16889,\n",
       " 'G': 15093,\n",
       " 'H': 45904,\n",
       " 'I': 56073,\n",
       " 'J': 1223,\n",
       " 'K': 6035,\n",
       " 'L': 32495,\n",
       " 'M': 22285,\n",
       " 'N': 54288,\n",
       " 'O': 60583,\n",
       " 'P': 12143,\n",
       " 'Q': 948,\n",
       " 'R': 47417,\n",
       " 'S': 50123,\n",
       " 'T': 67127,\n",
       " 'U': 23495,\n",
       " 'V': 7629,\n",
       " 'W': 18705,\n",
       " 'X': 1277,\n",
       " 'Y': 17307,\n",
       " 'Z': 329,\n",
       " ' ': 168745}"
      ]
     },
     "execution_count": 8,
     "metadata": {},
     "output_type": "execute_result"
    }
   ],
   "source": [
    "# Show the counts.\n",
    "counts"
   ]
  },
  {
   "cell_type": "code",
   "execution_count": 9,
   "metadata": {},
   "outputs": [
    {
     "data": {
      "text/plain": [
       "[(' ', 168745),\n",
       " ('E', 100508),\n",
       " ('T', 67127),\n",
       " ('A', 62860),\n",
       " ('O', 60583),\n",
       " ('I', 56073),\n",
       " ('N', 54288),\n",
       " ('S', 50123),\n",
       " ('R', 47417),\n",
       " ('H', 45904),\n",
       " ('D', 37462),\n",
       " ('L', 32495),\n",
       " ('U', 23495),\n",
       " ('M', 22285),\n",
       " ('C', 18771),\n",
       " ('W', 18705),\n",
       " ('Y', 17307),\n",
       " ('F', 16889),\n",
       " ('G', 15093),\n",
       " ('P', 12143),\n",
       " ('B', 11161),\n",
       " ('V', 7629),\n",
       " ('K', 6035),\n",
       " ('X', 1277),\n",
       " ('J', 1223),\n",
       " ('Q', 948),\n",
       " ('Z', 329)]"
      ]
     },
     "execution_count": 9,
     "metadata": {},
     "output_type": "execute_result"
    }
   ],
   "source": [
    "# Sort the counts\n",
    "sorted(counts.items(), key=lambda item: -item[1])"
   ]
  },
  {
   "cell_type": "code",
   "execution_count": 10,
   "metadata": {},
   "outputs": [
    {
     "data": {
      "text/plain": [
       "'NEU L HGCAWSD O SSIIE  EISA SFINTSC HA LGADLITD NTWDESDRFOFS EMDN A CSEET  TG RLESB  STE YDDFESRAAOE'"
      ]
     },
     "execution_count": 10,
     "metadata": {},
     "output_type": "execute_result"
    }
   ],
   "source": [
    "# Randomly select k symbols from the string above.\n",
    "L = random.choices(list(counts.keys()), weights=list(counts.values()), k=100)\n",
    "\n",
    "# Show.\n",
    "''.join(L)"
   ]
  }
 ],
 "metadata": {
  "kernelspec": {
   "display_name": "Python 3",
   "language": "python",
   "name": "python3"
  },
  "language_info": {
   "codemirror_mode": {
    "name": "ipython",
    "version": 3
   },
   "file_extension": ".py",
   "mimetype": "text/x-python",
   "name": "python",
   "nbconvert_exporter": "python",
   "pygments_lexer": "ipython3",
   "version": "3.11.5"
  }
 },
 "nbformat": 4,
 "nbformat_minor": 2
}
